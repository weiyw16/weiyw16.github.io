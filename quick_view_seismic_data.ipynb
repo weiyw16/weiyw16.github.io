{
  "nbformat": 4,
  "nbformat_minor": 0,
  "metadata": {
    "colab": {
      "provenance": [],
      "authorship_tag": "ABX9TyP1r0QKjINqqN0EGY2EBzDS",
      "include_colab_link": true
    },
    "kernelspec": {
      "name": "python3",
      "display_name": "Python 3"
    },
    "language_info": {
      "name": "python"
    }
  },
  "cells": [
    {
      "cell_type": "markdown",
      "metadata": {
        "id": "view-in-github",
        "colab_type": "text"
      },
      "source": [
        "<a href=\"https://colab.research.google.com/github/weiyw16/weiyw16.github.io/blob/main/quick_view_seismic_data.ipynb\" target=\"_parent\"><img src=\"https://colab.research.google.com/assets/colab-badge.svg\" alt=\"Open In Colab\"/></a>"
      ]
    },
    {
      "cell_type": "code",
      "execution_count": 2,
      "metadata": {
        "id": "mqiSE61qEsRg"
      },
      "outputs": [],
      "source": [
        "### ########################## ###\n",
        "### quick view of seismic data ###\n",
        "###       support .npy         ###\n",
        "### Author: Yanwen Wei         ###\n",
        "### Email: weiyw17@gmail.com   ###\n",
        "### ########################## ###\n",
        "\n",
        "import os \n",
        "import numpy as np\n",
        "import matplotlib\n",
        "import matplotlib.pyplot as plt\n",
        "import matplotlib.colors as pcl\n",
        "# from matplotlib.font_manager import FontProperties # if use cn\n",
        "# add your font \n",
        "# SimHei = FontProperties(fname='/home/wyw/anaconda3/lib/python3.7/site-packages/matplotlib/mpl-data/fonts/ttf/SimHei.ttf')\n",
        "\n",
        "# global paramaters\n",
        "# no need to change here\n",
        "import argparse\n",
        "opt = argparse.ArgumentParser()\n",
        "opt.lang = 'en'# 'cn' \n",
        "opt.ftype = 0 # 0 for .npy; 1 for .bin\n",
        "opt.n1 = 2048 # fast dimension \n",
        "opt.n2 = 126 # second dimension 2D problem\n",
        "\n",
        "opt.ss = 50 # start from which data\n",
        "opt.npic = 10 # how many shots to show per figure"
      ]
    },
    {
      "cell_type": "code",
      "source": [
        "# change here\n",
        "### # download data from ###############\n",
        "# https://pan.baidu.com/s/1xR0sFMzBbdXmg7mf4VPMwQ?pwd=hpgc\n",
        "# or https://drive.google.com/drive/folders/1J1UI__lw1BjUFeBrUA4ms6QqOXoB5HGS?usp=sharing)\n",
        "# and put the path here\n",
        "opt.rpath = '/home/wyw/2021_workspace/B-rename_for_input' \n",
        "opt.mode = 'train' # 'test'\n",
        "# opt.mode = 'test' # 'test'\n",
        "### # ##################################\n",
        "\n",
        "# change here: which model to plot\n",
        "if opt.mode == 'train':\n",
        "    # train list\n",
        "#     mid_list = [10, 23, 30, 414, 419, 430, 431, 432, 439, 440, 441, 450, 451, 452, 453, 458, 459, 62, 66, 80]\n",
        "    mid_list = [52]\n",
        "else:\n",
        "    # test list\n",
        "    # mid_list = [10, 23, 432, 435, 456, 52, 62, 66, 80, 81, 94, 95, 96] \n",
        "    mid_list = [10]"
      ],
      "metadata": {
        "id": "kb8XLgXKI4ve"
      },
      "execution_count": null,
      "outputs": []
    },
    {
      "cell_type": "markdown",
      "source": [
        "## Functions"
      ],
      "metadata": {
        "id": "9g0ltcj5FPOs"
      }
    },
    {
      "cell_type": "code",
      "source": [
        "def get_plot_stack2image(opt=None, OUT=None, scale=0.1, title=None, ratio=16, nplot=None):\n",
        "\n",
        "    sc1 = OUT.mean() - scale*OUT.std()\n",
        "    sc2 = OUT.mean() + scale*OUT.std()\n",
        "    cN = pcl.Normalize(vmin=sc1, vmax=sc2)\n",
        "    \n",
        "    fig, ax = plt.subplots(figsize=(8,5), dpi=300)\n",
        "    im = ax.imshow(OUT, cmap='seismic', norm=cN, interpolation='bicubic')\n",
        "    ax.set_aspect(ratio)\n",
        "    if opt.lang == 'cn':\n",
        "            plt.ylabel(u'时间步', fontsize=10, fontproperties=SimHei) # y轴标题\n",
        "            plt.xlabel(u'接收器', fontsize=10, fontproperties=SimHei) # y轴标题\n",
        "    else:\n",
        "        plt.ylabel(u'Time Step', fontsize=10) # y轴标题\n",
        "        # plt.gca().invert_yaxis()\n",
        "        plt.xlabel(u'Receiver No', fontsize=10) # x轴标题\n",
        "    \n",
        "    plt.title(title)\n",
        "    nx = opt.n2\n",
        "    for ii in range(1, nplot):\n",
        "        plt.axvline( int((ii)*nx), color='black') #, linewidth=2 )\n",
        "    return ax "
      ],
      "metadata": {
        "id": "Ycz7lhDwE4Z1"
      },
      "execution_count": 3,
      "outputs": []
    },
    {
      "cell_type": "code",
      "source": [
        "def routinue_npic(opt=None, path=None, prefix=None, ss=0, npic=10):\n",
        "    # single component plot \n",
        "#     npic = 10\n",
        "    all_show = np.zeros( (opt.n1, npic*opt.n2) )\n",
        "    print(f\"Reading from {path}\")\n",
        "\n",
        "    for ii in range(npic):\n",
        "        iis = ii + ss\n",
        "        tmp1 = np.load(f\"{path}/{prefix}_{iis}.npy\")\n",
        "        all_show[:,ii*opt.n2:ii*opt.n2+opt.n2] = tmp1\n",
        "\n",
        "    ax1 = get_plot_stack2image(opt=opt, OUT=all_show, scale=3, ratio=0.2, nplot=npic)\n",
        "#     print(f\"Start at {ss}\")\n",
        "#     ss += npic;\n",
        "    return "
      ],
      "metadata": {
        "id": "0pezd-cPFUZ7"
      },
      "execution_count": 4,
      "outputs": []
    },
    {
      "cell_type": "code",
      "source": [
        "def workflow(opt=opt, mid=None):\n",
        "    \n",
        "    # set path\n",
        "    if opt.mode == 'train':\n",
        "        opt.path_pre = f'{opt.rpath}/for{opt.mode}_model_{mid}'\n",
        "    else:\n",
        "        opt.path_pre = f'{opt.rpath}/{opt.mode}_model_{mid}'\n",
        "    opt.prefix = 'vz'\n",
        "    opt.path = f'{opt.path_pre}/{opt.prefix}'\n",
        "\n",
        "    opt.prefix2 = 'vx'\n",
        "    opt.path2 = f'{opt.path_pre}/{opt.prefix2}'\n",
        "\n",
        "    opt.prefix3 = 'div'\n",
        "    opt.path3 = f'{opt.path_pre}/{opt.prefix3}'\n",
        "\n",
        "    opt.prefix4 = 'curl'\n",
        "    opt.path4 = f'{opt.path_pre}/{opt.prefix4}'\n",
        "\n",
        "    opt.outpath = opt.path_pre.split('/')[-1]\n",
        "    print(f\"write out to {opt.outpath}\")\n",
        "    if not os.path.exists(opt.outpath):\n",
        "        os.mkdir(opt.outpath)\n",
        "        \n",
        "    # plot\n",
        "    ss = opt.ss; npic = opt.npic;\n",
        "    path = opt.path\n",
        "    prefix = opt.prefix\n",
        "    routinue_npic(opt=opt, path=path, prefix=prefix, ss=ss, npic=10)\n",
        "    plt.title(f\"vModel-{mid}-{opt.mode}-shot-{opt.ss}-{opt.ss+npic-1}-{prefix}\")\n",
        "    plt.savefig(f'{opt.outpath}/single_comp_{prefix}_{ss}-{ss+npic}.pdf', bbox_inches='tight')\n",
        "    \n",
        "    path = opt.path2\n",
        "    prefix = opt.prefix2\n",
        "    routinue_npic(opt=opt, path=path, prefix=prefix, ss=ss, npic=10)\n",
        "    plt.title(f\"vModel-{mid}-{opt.mode}-shot-{opt.ss}-{opt.ss+npic-1}-{prefix}\")\n",
        "    plt.savefig(f'{opt.outpath}/single_comp_{prefix}_{ss}-{ss+npic}.pdf', bbox_inches='tight')\n",
        "\n",
        "    path = opt.path3\n",
        "    prefix = opt.prefix3\n",
        "    routinue_npic(opt=opt, path=path, prefix=prefix, ss=ss, npic=10)\n",
        "    plt.title(f\"vModel-{mid}-{opt.mode}-shot-{opt.ss}-{opt.ss+npic-1}-{prefix}\")\n",
        "    plt.savefig(f'{opt.outpath}/single_comp_{prefix}_{ss}-{ss+npic}.pdf', bbox_inches='tight')\n",
        "    \n",
        "    path = opt.path4\n",
        "    prefix = opt.prefix4\n",
        "    routinue_npic(opt=opt, path=path, prefix=prefix, ss=ss, npic=10)\n",
        "    plt.title(f\"vModel-{mid}-{opt.mode}-shot-{opt.ss}-{opt.ss+npic-1}-{prefix}\")\n",
        "    plt.savefig(f'{opt.outpath}/single_comp_{prefix}_{ss}-{ss+npic}.pdf', bbox_inches='tight')\n",
        "    \n",
        "    ss += npic;\n",
        "    return "
      ],
      "metadata": {
        "id": "DSnYxCp_FVtQ"
      },
      "execution_count": 5,
      "outputs": []
    },
    {
      "cell_type": "markdown",
      "source": [
        "# data visualization"
      ],
      "metadata": {
        "id": "bqhemK8pFcwX"
      }
    },
    {
      "cell_type": "code",
      "source": [
        "for mid in mid_list:\n",
        "    workflow(opt=opt, mid=mid)"
      ],
      "metadata": {
        "colab": {
          "base_uri": "https://localhost:8080/",
          "height": 375
        },
        "id": "IOMjZAkAFYrR",
        "outputId": "1491c127-ff1c-4ea4-f6dc-238e1200f679"
      },
      "execution_count": 9,
      "outputs": [
        {
          "output_type": "stream",
          "name": "stdout",
          "text": [
            "write out to fortrain_model_52\n",
            "Reading from /home/wyw/2021_workspace/B-rename_for_input/fortrain_model_52/vz\n"
          ]
        },
        {
          "output_type": "error",
          "ename": "FileNotFoundError",
          "evalue": "ignored",
          "traceback": [
            "\u001b[0;31m---------------------------------------------------------------------------\u001b[0m",
            "\u001b[0;31mFileNotFoundError\u001b[0m                         Traceback (most recent call last)",
            "\u001b[0;32m<ipython-input-9-e1400622f9d6>\u001b[0m in \u001b[0;36m<cell line: 1>\u001b[0;34m()\u001b[0m\n\u001b[1;32m      1\u001b[0m \u001b[0;32mfor\u001b[0m \u001b[0mmid\u001b[0m \u001b[0;32min\u001b[0m \u001b[0mmid_list\u001b[0m\u001b[0;34m:\u001b[0m\u001b[0;34m\u001b[0m\u001b[0;34m\u001b[0m\u001b[0m\n\u001b[0;32m----> 2\u001b[0;31m     \u001b[0mworkflow\u001b[0m\u001b[0;34m(\u001b[0m\u001b[0mopt\u001b[0m\u001b[0;34m=\u001b[0m\u001b[0mopt\u001b[0m\u001b[0;34m,\u001b[0m \u001b[0mmid\u001b[0m\u001b[0;34m=\u001b[0m\u001b[0mmid\u001b[0m\u001b[0;34m)\u001b[0m\u001b[0;34m\u001b[0m\u001b[0;34m\u001b[0m\u001b[0m\n\u001b[0m",
            "\u001b[0;32m<ipython-input-5-47ca576292d5>\u001b[0m in \u001b[0;36mworkflow\u001b[0;34m(opt, mid)\u001b[0m\n\u001b[1;32m     27\u001b[0m     \u001b[0mpath\u001b[0m \u001b[0;34m=\u001b[0m \u001b[0mopt\u001b[0m\u001b[0;34m.\u001b[0m\u001b[0mpath\u001b[0m\u001b[0;34m\u001b[0m\u001b[0;34m\u001b[0m\u001b[0m\n\u001b[1;32m     28\u001b[0m     \u001b[0mprefix\u001b[0m \u001b[0;34m=\u001b[0m \u001b[0mopt\u001b[0m\u001b[0;34m.\u001b[0m\u001b[0mprefix\u001b[0m\u001b[0;34m\u001b[0m\u001b[0;34m\u001b[0m\u001b[0m\n\u001b[0;32m---> 29\u001b[0;31m     \u001b[0mroutinue_npic\u001b[0m\u001b[0;34m(\u001b[0m\u001b[0mopt\u001b[0m\u001b[0;34m=\u001b[0m\u001b[0mopt\u001b[0m\u001b[0;34m,\u001b[0m \u001b[0mpath\u001b[0m\u001b[0;34m=\u001b[0m\u001b[0mpath\u001b[0m\u001b[0;34m,\u001b[0m \u001b[0mprefix\u001b[0m\u001b[0;34m=\u001b[0m\u001b[0mprefix\u001b[0m\u001b[0;34m,\u001b[0m \u001b[0mss\u001b[0m\u001b[0;34m=\u001b[0m\u001b[0mss\u001b[0m\u001b[0;34m,\u001b[0m \u001b[0mnpic\u001b[0m\u001b[0;34m=\u001b[0m\u001b[0;36m10\u001b[0m\u001b[0;34m)\u001b[0m\u001b[0;34m\u001b[0m\u001b[0;34m\u001b[0m\u001b[0m\n\u001b[0m\u001b[1;32m     30\u001b[0m     \u001b[0mplt\u001b[0m\u001b[0;34m.\u001b[0m\u001b[0mtitle\u001b[0m\u001b[0;34m(\u001b[0m\u001b[0;34mf\"vModel-{mid}-{opt.mode}-shot-{opt.ss}-{opt.ss+npic-1}-{prefix}\"\u001b[0m\u001b[0;34m)\u001b[0m\u001b[0;34m\u001b[0m\u001b[0;34m\u001b[0m\u001b[0m\n\u001b[1;32m     31\u001b[0m     \u001b[0mplt\u001b[0m\u001b[0;34m.\u001b[0m\u001b[0msavefig\u001b[0m\u001b[0;34m(\u001b[0m\u001b[0;34mf'{opt.outpath}/single_comp_{prefix}_{ss}-{ss+npic}.pdf'\u001b[0m\u001b[0;34m,\u001b[0m \u001b[0mbbox_inches\u001b[0m\u001b[0;34m=\u001b[0m\u001b[0;34m'tight'\u001b[0m\u001b[0;34m)\u001b[0m\u001b[0;34m\u001b[0m\u001b[0;34m\u001b[0m\u001b[0m\n",
            "\u001b[0;32m<ipython-input-4-947abeedeecf>\u001b[0m in \u001b[0;36mroutinue_npic\u001b[0;34m(opt, path, prefix, ss, npic)\u001b[0m\n\u001b[1;32m      7\u001b[0m     \u001b[0;32mfor\u001b[0m \u001b[0mii\u001b[0m \u001b[0;32min\u001b[0m \u001b[0mrange\u001b[0m\u001b[0;34m(\u001b[0m\u001b[0mnpic\u001b[0m\u001b[0;34m)\u001b[0m\u001b[0;34m:\u001b[0m\u001b[0;34m\u001b[0m\u001b[0;34m\u001b[0m\u001b[0m\n\u001b[1;32m      8\u001b[0m         \u001b[0miis\u001b[0m \u001b[0;34m=\u001b[0m \u001b[0mii\u001b[0m \u001b[0;34m+\u001b[0m \u001b[0mss\u001b[0m\u001b[0;34m\u001b[0m\u001b[0;34m\u001b[0m\u001b[0m\n\u001b[0;32m----> 9\u001b[0;31m         \u001b[0mtmp1\u001b[0m \u001b[0;34m=\u001b[0m \u001b[0mnp\u001b[0m\u001b[0;34m.\u001b[0m\u001b[0mload\u001b[0m\u001b[0;34m(\u001b[0m\u001b[0;34mf\"{path}/{prefix}_{iis}.npy\"\u001b[0m\u001b[0;34m)\u001b[0m\u001b[0;34m\u001b[0m\u001b[0;34m\u001b[0m\u001b[0m\n\u001b[0m\u001b[1;32m     10\u001b[0m         \u001b[0mall_show\u001b[0m\u001b[0;34m[\u001b[0m\u001b[0;34m:\u001b[0m\u001b[0;34m,\u001b[0m\u001b[0mii\u001b[0m\u001b[0;34m*\u001b[0m\u001b[0mopt\u001b[0m\u001b[0;34m.\u001b[0m\u001b[0mn2\u001b[0m\u001b[0;34m:\u001b[0m\u001b[0mii\u001b[0m\u001b[0;34m*\u001b[0m\u001b[0mopt\u001b[0m\u001b[0;34m.\u001b[0m\u001b[0mn2\u001b[0m\u001b[0;34m+\u001b[0m\u001b[0mopt\u001b[0m\u001b[0;34m.\u001b[0m\u001b[0mn2\u001b[0m\u001b[0;34m]\u001b[0m \u001b[0;34m=\u001b[0m \u001b[0mtmp1\u001b[0m\u001b[0;34m\u001b[0m\u001b[0;34m\u001b[0m\u001b[0m\n\u001b[1;32m     11\u001b[0m \u001b[0;34m\u001b[0m\u001b[0m\n",
            "\u001b[0;32m/usr/local/lib/python3.9/dist-packages/numpy/lib/npyio.py\u001b[0m in \u001b[0;36mload\u001b[0;34m(file, mmap_mode, allow_pickle, fix_imports, encoding)\u001b[0m\n\u001b[1;32m    405\u001b[0m             \u001b[0mown_fid\u001b[0m \u001b[0;34m=\u001b[0m \u001b[0;32mFalse\u001b[0m\u001b[0;34m\u001b[0m\u001b[0;34m\u001b[0m\u001b[0m\n\u001b[1;32m    406\u001b[0m         \u001b[0;32melse\u001b[0m\u001b[0;34m:\u001b[0m\u001b[0;34m\u001b[0m\u001b[0;34m\u001b[0m\u001b[0m\n\u001b[0;32m--> 407\u001b[0;31m             \u001b[0mfid\u001b[0m \u001b[0;34m=\u001b[0m \u001b[0mstack\u001b[0m\u001b[0;34m.\u001b[0m\u001b[0menter_context\u001b[0m\u001b[0;34m(\u001b[0m\u001b[0mopen\u001b[0m\u001b[0;34m(\u001b[0m\u001b[0mos_fspath\u001b[0m\u001b[0;34m(\u001b[0m\u001b[0mfile\u001b[0m\u001b[0;34m)\u001b[0m\u001b[0;34m,\u001b[0m \u001b[0;34m\"rb\"\u001b[0m\u001b[0;34m)\u001b[0m\u001b[0;34m)\u001b[0m\u001b[0;34m\u001b[0m\u001b[0;34m\u001b[0m\u001b[0m\n\u001b[0m\u001b[1;32m    408\u001b[0m             \u001b[0mown_fid\u001b[0m \u001b[0;34m=\u001b[0m \u001b[0;32mTrue\u001b[0m\u001b[0;34m\u001b[0m\u001b[0;34m\u001b[0m\u001b[0m\n\u001b[1;32m    409\u001b[0m \u001b[0;34m\u001b[0m\u001b[0m\n",
            "\u001b[0;31mFileNotFoundError\u001b[0m: [Errno 2] No such file or directory: '/home/wyw/2021_workspace/B-rename_for_input/fortrain_model_52/vz/vz_50.npy'"
          ]
        }
      ]
    },
    {
      "cell_type": "code",
      "source": [],
      "metadata": {
        "id": "1U-3xakwFpCR"
      },
      "execution_count": null,
      "outputs": []
    }
  ]
}